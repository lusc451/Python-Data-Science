{
 "cells": [
  {
   "cell_type": "code",
   "execution_count": null,
   "metadata": {},
   "outputs": [],
   "source": [
    "import pandas as pd\n",
    "import re # Importando o Regular Expressions"
   ]
  },
  {
   "cell_type": "code",
   "execution_count": null,
   "metadata": {},
   "outputs": [],
   "source": [
    "df = pd.read_csv('house.csv')"
   ]
  },
  {
   "cell_type": "code",
   "execution_count": null,
   "metadata": {},
   "outputs": [],
   "source": [
    "# Filtrando os dados\n",
    "# Mostrando somente casas (Type == 'h') com determinados números de quartos (Rooms == nº determinado) e abaixo de 500k (Price <= 500000)\n",
    "filter1 = df.loc[(df['Rooms'] == 3) & (df['Type'] == 'h') & (df['Price'] <= 500000)]\n",
    "filter1"
   ]
  },
  {
   "cell_type": "code",
   "execution_count": null,
   "metadata": {},
   "outputs": [],
   "source": [
    "# Filtrando os dados\n",
    "# Mostrando imoveis em uma determinada rua\n",
    "filter2 = df.loc[df['Address'].str.contains('Turner st|Turner Rd', flags=re.I)]\n",
    "filter2"
   ]
  },
  {
   "cell_type": "code",
   "execution_count": null,
   "metadata": {},
   "outputs": [],
   "source": [
    "# Filtrando os dados\n",
    "# Mostrando imoveis que começam com o nº 59 e tem o preço abaixo de 500k\n",
    "filter3 = df.loc[df['Address'].str.contains('^59', flags=re.I) & (df['Price'] <= 500000)]\n",
    "filter3"
   ]
  }
 ],
 "metadata": {
  "kernelspec": {
   "display_name": "Python 3",
   "language": "python",
   "name": "python3"
  },
  "language_info": {
   "codemirror_mode": {
    "name": "ipython",
    "version": 3
   },
   "file_extension": ".py",
   "mimetype": "text/x-python",
   "name": "python",
   "nbconvert_exporter": "python",
   "pygments_lexer": "ipython3",
   "version": "3.12.0"
  }
 },
 "nbformat": 4,
 "nbformat_minor": 2
}
